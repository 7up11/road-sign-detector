{
 "cells": [
  {
   "cell_type": "code",
   "execution_count": null,
   "id": "08c766a5-450c-4239-9827-1ecf1867ffe4",
   "metadata": {},
   "outputs": [],
   "source": [
    "from ultralytics import YOLO\n",
    "import cv2 as cv"
   ]
  },
  {
   "cell_type": "code",
   "execution_count": null,
   "id": "67bd856a-a5ad-437a-8630-61fc8f73a525",
   "metadata": {},
   "outputs": [],
   "source": [
    "yolo = YOLO(\"yolo11n.pt\").cuda()"
   ]
  },
  {
   "cell_type": "code",
   "execution_count": null,
   "id": "e498396f-67d6-4cc2-af72-fc66817d44b0",
   "metadata": {},
   "outputs": [],
   "source": [
    "results = yolo.train(data=\"datasets/road-signs/data.yaml\", freeze=23, device=0, batch=256, epochs=50)"
   ]
  },
  {
   "cell_type": "code",
   "execution_count": null,
   "id": "979e2df1-0cf3-4935-ad8b-0114c39d9cbb",
   "metadata": {},
   "outputs": [],
   "source": []
  }
 ],
 "metadata": {
  "kernelspec": {
   "display_name": "Python 3 (ipykernel)",
   "language": "python",
   "name": "python3"
  },
  "language_info": {
   "codemirror_mode": {
    "name": "ipython",
    "version": 3
   },
   "file_extension": ".py",
   "mimetype": "text/x-python",
   "name": "python",
   "nbconvert_exporter": "python",
   "pygments_lexer": "ipython3",
   "version": "3.12.9"
  }
 },
 "nbformat": 4,
 "nbformat_minor": 5
}
